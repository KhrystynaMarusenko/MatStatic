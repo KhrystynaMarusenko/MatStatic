{
  "nbformat": 4,
  "nbformat_minor": 0,
  "metadata": {
    "colab": {
      "name": "Untitled2.ipynb",
      "provenance": [],
      "authorship_tag": "ABX9TyOha1+CP1NK44X0FqNzu8c6",
      "include_colab_link": true
    },
    "kernelspec": {
      "name": "python3",
      "display_name": "Python 3"
    }
  },
  "cells": [
    {
      "cell_type": "markdown",
      "metadata": {
        "id": "view-in-github",
        "colab_type": "text"
      },
      "source": [
        "<a href=\"https://colab.research.google.com/github/KhrystynaMarusenko/MatStatic/blob/main/Main.ipynb\" target=\"_parent\"><img src=\"https://colab.research.google.com/assets/colab-badge.svg\" alt=\"Open In Colab\"/></a>"
      ]
    },
    {
      "cell_type": "code",
      "metadata": {
        "id": "0oftRHSaxMJi",
        "outputId": "d8f2946e-79ce-449b-d2b8-85acc536b4fc",
        "colab": {
          "base_uri": "https://localhost:8080/"
        }
      },
      "source": [
        "import pandas as pd\n",
        "from scipy import stats as st\n",
        "from matplotlib import pyplot as plt\n",
        "from random import*\n",
        "import math\n",
        "from collections import Counter\n",
        "import numpy as np\n",
        "import matplotlib as mpl\n",
        "import matplotlib.pyplot as plt\n",
        "import matplotlib.dates as mdates\n",
        "import datetime as dt\n",
        "import csv\n",
        "\n",
        "#Дискретна вибірка\n",
        "start=10;\n",
        "finish=28;\n",
        "a=[13,14,15,13,13,13,13,13,21,13,18,18,18,13,19,14,10,14,\n",
        "   10,11,11,12,12,12,13,28,13,25,14,14,24,14,24,15,15,16,\n",
        "   16,17,14,14,19,19,15,15,15,15,13,14,16,19]\n",
        "\n",
        "a.sort()\n",
        "print(a,'\\n')\n",
        "\n",
        "freq_table=dict()\n",
        "freq_table=Counter(a)\n",
        "\n"
      ],
      "execution_count": 42,
      "outputs": [
        {
          "output_type": "stream",
          "text": [
            "[10, 10, 11, 11, 12, 12, 12, 13, 13, 13, 13, 13, 13, 13, 13, 13, 13, 13, 14, 14, 14, 14, 14, 14, 14, 14, 14, 15, 15, 15, 15, 15, 15, 15, 16, 16, 16, 17, 18, 18, 18, 19, 19, 19, 19, 21, 24, 24, 25, 28] \n",
            "\n"
          ],
          "name": "stdout"
        }
      ]
    },
    {
      "cell_type": "code",
      "metadata": {
        "id": "z-cZ1WDyxQRu",
        "outputId": "da5c56c4-47d9-4f02-df0b-76dc984e1f78",
        "colab": {
          "base_uri": "https://localhost:8080/"
        }
      },
      "source": [
        "\n",
        "#Частотна таблиця\n",
        "freq_tablel=dict()\n",
        "for i in freq_table.keys():\n",
        "    freq_tablel[i]=[freq_table[i]]\n",
        "freq_table_df=pd.DataFrame(freq_tablel, index=[\"m:\"])\n",
        "print(freq_table_df)\n",
        "print()\n",
        "freq_tablel_2 = dict()\n",
        "for i in freq_table.keys():\n",
        "    freq_tablel_2[i]= float(freq_table[i]/n)\n",
        "freq_table_df=pd.DataFrame(freq_tablel_2, index=[\"w:\"])\n",
        "print(freq_table_df)\n",
        "\n",
        "x_axis=np.array(list(freq_table.keys()))\n",
        "y_axis=np.array(list(freq_table.values()))\n",
        "w_axis = []"
      ],
      "execution_count": 3,
      "outputs": [
        {
          "output_type": "stream",
          "text": [
            "    10  11  12  13  14  15  16  17  18  19  21  24  25  28\n",
            "m:   2   2   3  11   9   7   3   1   3   4   1   2   1   1\n",
            "\n",
            "      10    11    12    13    14    15  ...    18    19    21    24    25    28\n",
            "w:  0.04  0.04  0.06  0.22  0.18  0.14  ...  0.06  0.08  0.02  0.04  0.02  0.02\n",
            "\n",
            "[1 rows x 14 columns]\n"
          ],
          "name": "stdout"
        }
      ]
    },
    {
      "cell_type": "code",
      "metadata": {
        "id": "KXPjq3ZrxTJk",
        "outputId": "e052266a-32c0-4402-cde9-3581a59c3290",
        "colab": {
          "base_uri": "https://localhost:8080/",
          "height": 388
        }
      },
      "source": [
        "data_names = x_axis\n",
        "data_values = y_axis\n",
        "\n",
        "dpi = 80\n",
        "fig = plt.figure(dpi = dpi, figsize = (512 / dpi, 384 / dpi) )\n",
        "mpl.rcParams.update({'font.size': 10})\n",
        "\n",
        "plt.title('Діаграма частот')\n",
        "\n",
        "ax = plt.axes()\n",
        "ax.yaxis.grid(True, zorder = 1)\n",
        "\n",
        "xs = range(len(data_names))\n",
        "\n",
        "\n",
        "plt.bar([x + 0.3 for x in xs], data_values,\n",
        "        width = 0.1, color = 'blue', alpha = 1,\n",
        "        zorder = 2)\n",
        "plt.xticks(xs, data_names)\n",
        "\n",
        "fig.autofmt_xdate(rotation = 25)"
      ],
      "execution_count": 5,
      "outputs": [
        {
          "output_type": "stream",
          "text": [
            "/usr/local/lib/python3.6/dist-packages/ipykernel_launcher.py:10: MatplotlibDeprecationWarning: Adding an axes using the same arguments as a previous axes currently reuses the earlier instance.  In a future version, a new instance will always be created and returned.  Meanwhile, this warning can be suppressed, and the future behavior ensured, by passing a unique label to each axes instance.\n",
            "  # Remove the CWD from sys.path while we load stuff.\n"
          ],
          "name": "stderr"
        },
        {
          "output_type": "display_data",
          "data": {
            "image/png": "[encoded data removed]",
            "text/plain": [
              "<Figure size 512x384 with 1 Axes>"
            ]
          },
          "metadata": {
            "tags": [],
            "needs_background": "light"
          }
        }
      ]
    },
    {
      "cell_type": "code",
      "metadata": {
        "id": "jWbVKLTvxjtL",
        "outputId": "51caba02-77f7-4abd-c669-dd8859ca6618",
        "colab": {
          "base_uri": "https://localhost:8080/",
          "height": 311
        }
      },
      "source": [
        "fig, axs = plt.subplots(2)\n",
        "fig.suptitle('Полігон')\n",
        "plt.figure(figsize=(10,10))\n",
        "for i in y_axis:\n",
        "    w_axis.append(float(i/n))\n",
        "s=[20*10 for n in range(len(x_axis))]\n",
        "axs[0].plot(x_axis,y_axis,'k')\n",
        "axs[1].plot(x_axis, w_axis,color='k')\n",
        "plt.show()"
      ],
      "execution_count": null,
      "outputs": [
        {
          "output_type": "display_data",
          "data": {
            "image/png": "[encoded data removed]",
            "text/plain": [
              "<Figure size 432x288 with 2 Axes>"
            ]
          },
          "metadata": {
            "tags": [],
            "needs_background": "light"
          }
        },
        {
          "output_type": "display_data",
          "data": {
            "text/plain": [
              "<Figure size 720x720 with 0 Axes>"
            ]
          },
          "metadata": {
            "tags": []
          }
        }
      ]
    },
    {
      "cell_type": "code",
      "metadata": {
        "id": "qdIlFRarxlRl",
        "outputId": "4fbbe62f-1ce2-401f-bb75-f8d766b8b90d",
        "colab": {
          "base_uri": "https://localhost:8080/"
        }
      },
      "source": [
        "print('об`єм:' +str(n))"
      ],
      "execution_count": 6,
      "outputs": [
        {
          "output_type": "stream",
          "text": [
            "об`єм:50\n"
          ],
          "name": "stdout"
        }
      ]
    },
    {
      "cell_type": "code",
      "metadata": {
        "id": "cxzcgMcVxqov",
        "outputId": "ff047d5f-009d-48e8-b071-3bd7d7ec5949",
        "colab": {
          "base_uri": "https://localhost:8080/"
        }
      },
      "source": [
        "r = np.amax(a)-np.amin(a)\n",
        "print('Розмах вибірки:'+str(r))"
      ],
      "execution_count": 7,
      "outputs": [
        {
          "output_type": "stream",
          "text": [
            "Розмах вибірки:18\n"
          ],
          "name": "stdout"
        }
      ]
    },
    {
      "cell_type": "code",
      "metadata": {
        "id": "XRP151vSxtX3",
        "outputId": "da43d8be-881f-4cb3-afbf-24567ab519bd",
        "colab": {
          "base_uri": "https://localhost:8080/"
        }
      },
      "source": [
        "z = np.multiply(x_axis,y_axis)\n",
        "ans = sum(z)\n",
        "x_mean=float(ans/n)\n",
        "print(\"Середнє арифметичне всієї вибірки:\"+str(x_mean))"
      ],
      "execution_count": 8,
      "outputs": [
        {
          "output_type": "stream",
          "text": [
            "Середнє арифметичне всієї вибірки:15.38\n"
          ],
          "name": "stdout"
        }
      ]
    },
    {
      "cell_type": "code",
      "metadata": {
        "id": "E_vlAFiyxvBl",
        "outputId": "e89bcbe9-6479-4ddb-bef5-806416ab6a22",
        "colab": {
          "base_uri": "https://localhost:8080/"
        }
      },
      "source": [
        "x_median=np.median(a)\n",
        "print(\"Медіана для всієї вибірки:\"+ str(x_median))"
      ],
      "execution_count": 9,
      "outputs": [
        {
          "output_type": "stream",
          "text": [
            "Медіана для всієї вибірки:14.0\n"
          ],
          "name": "stdout"
        }
      ]
    },
    {
      "cell_type": "code",
      "metadata": {
        "id": "BaRQrBq8xxOh",
        "outputId": "1c4ecd62-27c2-41b2-d262-614b917d26ef",
        "colab": {
          "base_uri": "https://localhost:8080/"
        }
      },
      "source": [
        "mode_value=0;\n",
        "mode=[]\n",
        "for i in freq_table:\n",
        "    if mode_value<freq_table[i]:\n",
        "        mode_value=freq_table[i]\n",
        "for i in freq_table:\n",
        "    if mode_value==freq_table[i]:\n",
        "        mode.append(i)\n",
        "print(\"Мода для всієї вибірки: \"+str(mode))"
      ],
      "execution_count": 10,
      "outputs": [
        {
          "output_type": "stream",
          "text": [
            "Мода для всієї вибірки: [13]\n"
          ],
          "name": "stdout"
        }
      ]
    },
    {
      "cell_type": "code",
      "metadata": {
        "id": "A6X4YJQnxzsZ",
        "outputId": "b47d8cd4-d25a-4f43-a098-6fd7a407fb03",
        "colab": {
          "base_uri": "https://localhost:8080/"
        }
      },
      "source": [
        "d = np.power(x_axis,2)\n",
        "d_sum=np.multiply(d,y_axis)\n",
        "dus=float(sum(d_sum)/n-pow(x_mean,2))\n",
        "print(\"Статистична дисперсія для всієї вибірки: \"+str(dus))"
      ],
      "execution_count": 11,
      "outputs": [
        {
          "output_type": "stream",
          "text": [
            "Статистична дисперсія для всієї вибірки: 14.395599999999973\n"
          ],
          "name": "stdout"
        }
      ]
    },
    {
      "cell_type": "code",
      "metadata": {
        "id": "vO0bsbqax5AC",
        "outputId": "7391b9e8-abe3-4477-aa5d-8ba731f58e3d",
        "colab": {
          "base_uri": "https://localhost:8080/"
        }
      },
      "source": [
        "ssv = float(math.sqrt(dus))\n",
        "print(\"Середнє статистичне відхилення для всієї вибірки: \"+str(ssv))"
      ],
      "execution_count": 12,
      "outputs": [
        {
          "output_type": "stream",
          "text": [
            "Середнє статистичне відхилення для всієї вибірки: 3.7941533970043926\n"
          ],
          "name": "stdout"
        }
      ]
    },
    {
      "cell_type": "code",
      "metadata": {
        "id": "Dk7w595Gx7YQ",
        "outputId": "f7791f99-ced1-436d-9f7f-88a795cc615a",
        "colab": {
          "base_uri": "https://localhost:8080/"
        }
      },
      "source": [
        "v_dus = float(n*dus/(n-1))\n",
        "print(\"Виправлена статистична дисперсія для всієї вибірки: \"+str(v_dus))"
      ],
      "execution_count": 13,
      "outputs": [
        {
          "output_type": "stream",
          "text": [
            "Виправлена статистична дисперсія для всієї вибірки: 14.689387755102013\n"
          ],
          "name": "stdout"
        }
      ]
    },
    {
      "cell_type": "code",
      "metadata": {
        "id": "LZW48cRKx-Pr",
        "outputId": "45450f9a-8791-4893-9828-fd5bb46832a9",
        "colab": {
          "base_uri": "https://localhost:8080/"
        }
      },
      "source": [
        "sl=abs(np.subtract(x_axis,x_mean))\n",
        "slv = 1/n*sum(np.multiply(sl,y_axis))\n",
        "print(\"Середнє лінійне відхилення для всієї вибірки: \"+str(slv))"
      ],
      "execution_count": 14,
      "outputs": [
        {
          "output_type": "stream",
          "text": [
            "Середнє лінійне відхилення для всієї вибірки: 2.8368000000000007\n"
          ],
          "name": "stdout"
        }
      ]
    },
    {
      "cell_type": "code",
      "metadata": {
        "id": "WOhV1Hx_yBxb",
        "outputId": "3c454cd1-659c-489a-e760-18348efbb81c",
        "colab": {
          "base_uri": "https://localhost:8080/"
        }
      },
      "source": [
        "Vp = slv/x_mean*100\n",
        "print(\"Коефіцієнт варіації за середнім лінійним відхиленням: \"+str(Vp) +'%')"
      ],
      "execution_count": 15,
      "outputs": [
        {
          "output_type": "stream",
          "text": [
            "Коефіцієнт варіації за середнім лінійним відхиленням: 18.44473342002601%\n"
          ],
          "name": "stdout"
        }
      ]
    },
    {
      "cell_type": "code",
      "metadata": {
        "id": "qF9UZv4jyGFd",
        "outputId": "43502adb-fbe2-46c4-8867-bf753e430a44",
        "colab": {
          "base_uri": "https://localhost:8080/"
        }
      },
      "source": [
        "Vs = ssv/x_mean*100\n",
        "print(\"Коефіцієнт варіації за середнім квадратичним відхиленням: \"+str(Vs) +'%')"
      ],
      "execution_count": 16,
      "outputs": [
        {
          "output_type": "stream",
          "text": [
            "Коефіцієнт варіації за середнім квадратичним відхиленням: 24.66939789989852%\n"
          ],
          "name": "stdout"
        }
      ]
    },
    {
      "cell_type": "code",
      "metadata": {
        "id": "fVl7AlUPyHOC",
        "outputId": "79e79408-d6b4-45db-bfe2-02daa0d60a02",
        "colab": {
          "base_uri": "https://localhost:8080/"
        }
      },
      "source": [
        "arr = [0,1,2,3,4]\n",
        "x_s=dict()\n",
        "ms = dict()\n",
        "Ms = dict()\n",
        "print(\"Початковий статистичний момент вибірки s-го порядку:\\n\")\n",
        "for i in arr:\n",
        "    x_s= pow(x_axis,i)\n",
        "    ms = np.multiply(x_s,y_axis)    \n",
        "    Ms[i] = float(1/n*sum(ms))\n",
        "    print('M('+str(i)+'): '+str(Ms[i]))\n",
        "print('\\n')\n",
        "\n",
        "print(\"Центральний статистичний момент вибірки s-го порядку:\\n\")\n",
        "x_v =dict()\n",
        "x_xv = dict()\n",
        "mv = dict()\n",
        "Mv = dict()\n",
        "for i in arr:\n",
        "    x_xv = np.subtract(x_axis,x_mean)\n",
        "    x_v = pow(x_xv,i)\n",
        "    ##print(x_v,'\\n',y_axis,'\\n')\n",
        "    mv = np.multiply(x_v,y_axis)\n",
        "    ##print(sum(mv),'\\n')\n",
        "    Mv[i] = float(1/n*sum(mv))\n",
        "    print('M('+str(i)+'): '+str(Mv[i]))\n",
        "print('\\n')"
      ],
      "execution_count": 17,
      "outputs": [
        {
          "output_type": "stream",
          "text": [
            "Початковий статистичний момент вибірки s-го порядку:\n",
            "\n",
            "M(0): 1.0\n",
            "M(1): 15.38\n",
            "M(2): 250.94\n",
            "M(3): 4379.06\n",
            "M(4): 82108.7\n",
            "\n",
            "\n",
            "Центральний статистичний момент вибірки s-го порядку:\n",
            "\n",
            "M(0): 1.0\n",
            "M(1): -7.105427357601002e-16\n",
            "M(2): 14.3956\n",
            "M(3): 76.79414399999997\n",
            "M(4): 999.8797019199998\n",
            "\n",
            "\n"
          ],
          "name": "stdout"
        }
      ]
    },
    {
      "cell_type": "code",
      "metadata": {
        "id": "37dIWr0nyMeI",
        "outputId": "40ce60f1-fd8a-4fc6-f6d4-2d2a864ebff4",
        "colab": {
          "base_uri": "https://localhost:8080/"
        }
      },
      "source": [
        "A = float(1/n*sum(np.multiply(pow(np.subtract(x_axis,x_mean),3),y_axis))/(pow(ssv,3)))\n",
        "print('Асиметрія: ', str(A))\n",
        "\n",
        "E = float(1/n*sum(np.multiply(pow(np.subtract(x_axis,x_mean),4),y_axis))/(pow(ssv,4)))-3\n",
        "print('Ексцес: ', str(E))"
      ],
      "execution_count": 18,
      "outputs": [
        {
          "output_type": "stream",
          "text": [
            "Асиметрія:  1.4059939364353202\n",
            "Ексцес:  1.8248988218010274\n"
          ],
          "name": "stdout"
        }
      ]
    },
    {
      "cell_type": "code",
      "metadata": {
        "id": "iYVNzf30aviI",
        "outputId": "d260c9bd-5951-4dac-8c60-b0490c7e2e33",
        "colab": {
          "base_uri": "https://localhost:8080/"
        }
      },
      "source": [
        "#Емпірична функція розподілу\n",
        "def disturb_func(freq_dict):\n",
        "    value=0\n",
        "    answer_dict=dict()\n",
        "    for i in freq_dict.keys():\n",
        "        ##print(value,' ')\n",
        "        answer_dict[i]=value\n",
        "        value += int(freq_dict.get(i))/len(a)\n",
        "        #print('M('+str(i)+'): '+str(Mv[i]))\n",
        "        #print(value: '()')\n",
        "        \n",
        "    return answer_dict\n",
        "\n",
        "distr_function=disturb_func(freq_table)\n",
        "#print(distr_function,'\\n')\n",
        "distr_function\n"
      ],
      "execution_count": 33,
      "outputs": [
        {
          "output_type": "execute_result",
          "data": {
            "text/plain": [
              "{10: 0,\n",
              " 11: 0.04,\n",
              " 12: 0.08,\n",
              " 13: 0.14,\n",
              " 14: 0.36,\n",
              " 15: 0.54,\n",
              " 16: 0.68,\n",
              " 17: 0.74,\n",
              " 18: 0.76,\n",
              " 19: 0.8200000000000001,\n",
              " 21: 0.9,\n",
              " 24: 0.92,\n",
              " 25: 0.9600000000000001,\n",
              " 28: 0.9800000000000001}"
            ]
          },
          "metadata": {
            "tags": []
          },
          "execution_count": 33
        }
      ]
    },
    {
      "cell_type": "code",
      "metadata": {
        "id": "d-ZvNOQyio2w",
        "outputId": "de3ca605-d61b-4b65-91f9-0a3acc25f4c9",
        "colab": {
          "base_uri": "https://localhost:8080/",
          "height": 663
        }
      },
      "source": [
        "xstart=a[0]-2\n",
        "x_pos=[]\n",
        "y_pos=[]\n",
        "plt.figure(figsize=(10,10))\n",
        "s=[20*10 for n in range(len(distr_function))]\n",
        "for pos_x, pos_y in distr_function.items():\n",
        "    x_pos.append(pos_x)\n",
        "    y_pos.append(pos_y)    \n",
        "plt.suptitle('Емпірична функція розподілу')\n",
        "plt.plot(x_pos,y_pos,color='k')\n",
        "plt.hlines(xmin=xstart,xmax=xstart+2,y=0,color='k')\n",
        "plt.show()"
      ],
      "execution_count": 23,
      "outputs": [
        {
          "output_type": "display_data",
          "data": {
            "image/png": "[encoded data removed]",
            "text/plain": [
              "<Figure size 720x720 with 1 Axes>"
            ]
          },
          "metadata": {
            "tags": [],
            "needs_background": "light"
          }
        }
      ]
    },
    {
      "cell_type": "code",
      "metadata": {
        "id": "4H-1tRscyuCg",
        "outputId": "8e393ada-0c92-472f-a31e-03cf4f8891ce",
        "colab": {
          "base_uri": "https://localhost:8080/"
        }
      },
      "source": [
        "#Неперервна вибірка\n",
        "\n",
        "print(\"  \")\n",
        "print(\"  \")\n",
        "\n",
        "dx = 3\n",
        "groups=[]\n",
        "b=a[0]\n",
        "\n",
        "i = start\n",
        "while i < finish:\n",
        "    groups.append((float(format(b,'.4f')),float(format(b+dx,'.4f'))))\n",
        "    i = i + 1\n",
        "    b+=dx\n",
        "    if b >= finish:\n",
        "      break\n",
        "print(groups,'\\n')\n",
        "h = 6\n",
        "freq_table=dict()\n",
        "\n",
        "for i in a:\n",
        "    for j in groups:\n",
        "        if j[0]<=i<j[1] and freq_table.get(j):\n",
        "            freq_table[j]+=1\n",
        "        elif j[0]<=i<j[1] and not freq_table.get(j):\n",
        "            freq_table[j]=1\n",
        "#freq_table[groups[r-1]]+=1\n",
        "freq_table\n",
        "\n"
      ],
      "execution_count": 60,
      "outputs": [
        {
          "output_type": "stream",
          "text": [
            "  \n",
            "  \n",
            "[(10.0, 13.0), (13.0, 16.0), (16.0, 19.0), (19.0, 22.0), (22.0, 25.0), (25.0, 28.0)] \n",
            "\n"
          ],
          "name": "stdout"
        },
        {
          "output_type": "execute_result",
          "data": {
            "text/plain": [
              "{(10.0, 13.0): 7,\n",
              " (13.0, 16.0): 27,\n",
              " (16.0, 19.0): 7,\n",
              " (19.0, 22.0): 5,\n",
              " (22.0, 25.0): 2,\n",
              " (25.0, 28.0): 1}"
            ]
          },
          "metadata": {
            "tags": []
          },
          "execution_count": 60
        }
      ]
    },
    {
      "cell_type": "code",
      "metadata": {
        "id": "L8ppcb9lzBmh",
        "outputId": "73692e22-ea01-4bd4-8556-7eb2580ff125",
        "colab": {
          "base_uri": "https://localhost:8080/"
        }
      },
      "source": [
        "\n",
        "#Частотна\n",
        "H = 0\n",
        "freq_tablel=dict()\n",
        "for i in freq_table.keys():\n",
        "    freq_tablel[i]=[freq_table[i]]\n",
        "    H += 1\n",
        "freq_table_df=pd.DataFrame(freq_tablel, index=[\"m:\"])\n",
        "print(freq_table_df)\n",
        "print('\\n')\n",
        "print(H)\n",
        "#Відносна частотна\n",
        "freq_tablel_2 = dict()\n",
        "for i in freq_table.keys():\n",
        "    freq_tablel_2[i]= float(freq_table[i]/n)\n",
        "freq_table_df=pd.DataFrame(freq_tablel_2, index=[\"w:\"])\n",
        "print(freq_table_df)"
      ],
      "execution_count": 67,
      "outputs": [
        {
          "output_type": "stream",
          "text": [
            "   10.0 13.0 16.0 19.0 22.0 25.0\n",
            "   13.0 16.0 19.0 22.0 25.0 28.0\n",
            "m:    7   27    7    5    2    1\n",
            "\n",
            "\n",
            "6\n",
            "    10.0  13.0  16.0 19.0  22.0  25.0\n",
            "    13.0  16.0  19.0 22.0  25.0  28.0\n",
            "w:  0.14  0.54  0.14  0.1  0.04  0.02\n"
          ],
          "name": "stdout"
        }
      ]
    },
    {
      "cell_type": "code",
      "metadata": {
        "id": "0_g3WxaRqyaf",
        "outputId": "b612b8a0-3436-4f81-8559-c2800767158c",
        "colab": {
          "base_uri": "https://localhost:8080/"
        }
      },
      "source": [
        "freq_tablel_hist = dict()\n",
        "for i in freq_table_df.keys():\n",
        "    freq_tablel_hist[i]= float(freq_table_df[i]/keys)\n",
        "freq_table_df=pd.DataFrame(freq_tablel_hist, index=[\"H:\"])\n",
        "freq_tablel_hist\n"
      ],
      "execution_count": 68,
      "outputs": [
        {
          "output_type": "execute_result",
          "data": {
            "text/plain": [
              "{(10.0, 13.0): 0.01,\n",
              " (13.0, 16.0): 0.038571428571428576,\n",
              " (16.0, 19.0): 0.01,\n",
              " (19.0, 22.0): 0.0071428571428571435,\n",
              " (22.0, 25.0): 0.002857142857142857,\n",
              " (25.0, 28.0): 0.0014285714285714286}"
            ]
          },
          "metadata": {
            "tags": []
          },
          "execution_count": 68
        }
      ]
    },
    {
      "cell_type": "code",
      "metadata": {
        "id": "ItBo-FFYm-Xv",
        "outputId": "d9f26c82-c91e-477e-c8b6-cb5e6ca0952f",
        "colab": {
          "base_uri": "https://localhost:8080/",
          "height": 264
        }
      },
      "source": [
        "plt.hist(finish,r,facecolor = 'none',alpha=0.99)\n",
        "for i in freq_tablel_hist:\n",
        "    plt.vlines(i[0],ymin=0,ymax=freq_tablel_hist[i],linestyle='-',color='k')\n",
        "    plt.vlines(i[1],ymin=0,ymax=freq_tablel_hist[i],linestyle='-',color='k')\n",
        "    plt.hlines(xmin=i[0],xmax=i[1], y=freq_tablel_hist[i],color='k')\n",
        "plt.show()"
      ],
      "execution_count": 86,
      "outputs": [
        {
          "output_type": "display_data",
          "data": {
            "image/png": "[encoded data removed]",
            "text/plain": [
              "<Figure size 432x288 with 1 Axes>"
            ]
          },
          "metadata": {
            "tags": [],
            "needs_background": "light"
          }
        }
      ]
    }
  ]
}