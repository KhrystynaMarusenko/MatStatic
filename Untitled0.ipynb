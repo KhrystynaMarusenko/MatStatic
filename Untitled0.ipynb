{
  "nbformat": 4,
  "nbformat_minor": 0,
  "metadata": {
    "colab": {
      "name": "Untitled0.ipynb",
      "provenance": [],
      "collapsed_sections": [],
      "authorship_tag": "ABX9TyONdR56UGennpV3+cziu7t/",
      "include_colab_link": true
    },
    "kernelspec": {
      "name": "python3",
      "display_name": "Python 3"
    }
  },
  "cells": [
    {
      "cell_type": "markdown",
      "metadata": {
        "id": "view-in-github",
        "colab_type": "text"
      },
      "source": [
        "<a href=\"https://colab.research.google.com/github/KhrystynaMarusenko/MatStatic/blob/main/Untitled0.ipynb\" target=\"_parent\"><img src=\"https://colab.research.google.com/assets/colab-badge.svg\" alt=\"Open In Colab\"/></a>"
      ]
    },
    {
      "cell_type": "code",
      "metadata": {
        "id": "D6uiseIUAtO7",
        "outputId": "a67f8022-416d-4874-eac5-55de77613d7b",
        "colab": {
          "base_uri": "https://localhost:8080/"
        }
      },
      "source": [
        "import pandas as pd\n",
        "from scipy import stats as st\n",
        "from matplotlib import pyplot as plt\n",
        "from random import*\n",
        "import math\n",
        "from collections import Counter\n",
        "import numpy as np\n",
        "\n",
        "#Дискретна вибірка\n",
        "n=50;\n",
        "##start=135;\n",
        "##finish=153;\n",
        "##a=[135,144,153,135,136,136,137,137,137,137,138,138,138,139,139,140,140,140,\n",
        "##   140,141,141,142,142,142,143,143,143,143,144,144,144,144,144,145,145,146,\n",
        "##   146,147,147,148,149,149,150,151,151,152,153,144,136,139]\n",
        "start=10;\n",
        "finish=28;\n",
        "a=[13,14,15,13,13,13,13,13,21,13,18,18,18,13,19,14,10,14,\n",
        "   10,11,11,12,12,12,13,28,13,25,14,14,24,14,24,15,15,16,\n",
        "   16,17,14,14,19,19,15,15,15,15,13,14,16,19]\n",
        "\n",
        "a.sort()\n",
        "print(a,'\\n')\n",
        "\n",
        "freq_table=dict()\n",
        "freq_table=Counter(a)\n",
        "\n"
      ],
      "execution_count": 3,
      "outputs": [
        {
          "output_type": "stream",
          "text": [
            "[10, 10, 11, 11, 12, 12, 12, 13, 13, 13, 13, 13, 13, 13, 13, 13, 13, 13, 14, 14, 14, 14, 14, 14, 14, 14, 14, 15, 15, 15, 15, 15, 15, 15, 16, 16, 16, 17, 18, 18, 18, 19, 19, 19, 19, 21, 24, 24, 25, 28] \n",
            "\n"
          ],
          "name": "stdout"
        }
      ]
    },
    {
      "cell_type": "code",
      "metadata": {
        "id": "cGanujqkBKj6",
        "outputId": "0e90a7f4-3170-4449-ab71-84eed3ba2112",
        "colab": {
          "base_uri": "https://localhost:8080/"
        }
      },
      "source": [
        "\n",
        "#Частотна таблиця\n",
        "freq_tablel=dict()\n",
        "for i in freq_table.keys():\n",
        "    freq_tablel[i]=[freq_table[i]]\n",
        "freq_table_df=pd.DataFrame(freq_tablel, index=[\"m:\"])\n",
        "print(freq_table_df)\n",
        "print()\n",
        "freq_tablel_2 = dict()\n",
        "for i in freq_table.keys():\n",
        "    freq_tablel_2[i]= float(freq_table[i]/n)\n",
        "freq_table_df=pd.DataFrame(freq_tablel_2, index=[\"w:\"])\n",
        "print(freq_table_df)\n",
        "\n",
        "x_axis=np.array(list(freq_table.keys()))\n",
        "y_axis=np.array(list(freq_table.values()))\n",
        "w_axis = []"
      ],
      "execution_count": 4,
      "outputs": [
        {
          "output_type": "stream",
          "text": [
            "    10  11  12  13  14  15  16  17  18  19  21  24  25  28\n",
            "m:   2   2   3  11   9   7   3   1   3   4   1   2   1   1\n",
            "\n",
            "      10    11    12    13    14    15  ...    18    19    21    24    25    28\n",
            "w:  0.04  0.04  0.06  0.22  0.18  0.14  ...  0.06  0.08  0.02  0.04  0.02  0.02\n",
            "\n",
            "[1 rows x 14 columns]\n"
          ],
          "name": "stdout"
        }
      ]
    },
    {
      "cell_type": "code",
      "metadata": {
        "id": "DmJ4ZU0HBW48",
        "outputId": "be318421-0fa1-4d8c-eb0d-d5d381a446cd",
        "colab": {
          "base_uri": "https://localhost:8080/"
        }
      },
      "source": [
        "print('об`єм:' +str(n))"
      ],
      "execution_count": 5,
      "outputs": [
        {
          "output_type": "stream",
          "text": [
            "об`єм:50\n"
          ],
          "name": "stdout"
        }
      ]
    },
    {
      "cell_type": "code",
      "metadata": {
        "id": "PrXh8-u7Ba8s",
        "outputId": "2696f5f0-6376-4a07-9736-8d6b4f1defe7",
        "colab": {
          "base_uri": "https://localhost:8080/"
        }
      },
      "source": [
        "r = np.amax(a)-np.amin(a)\n",
        "print('Розмах вибірки:'+str(r))"
      ],
      "execution_count": 7,
      "outputs": [
        {
          "output_type": "stream",
          "text": [
            "Розмах вибірки:18\n"
          ],
          "name": "stdout"
        }
      ]
    },
    {
      "cell_type": "code",
      "metadata": {
        "id": "3NYEWwXJBnjd",
        "outputId": "e2a42dbe-78c5-44d2-99f8-9f513a4a7e75",
        "colab": {
          "base_uri": "https://localhost:8080/"
        }
      },
      "source": [
        "z = np.multiply(x_axis,y_axis)\n",
        "ans = sum(z)\n",
        "x_mean=float(ans/n)\n",
        "print(\"Середнє арифметичне всієї вибірки:\"+str(x_mean))"
      ],
      "execution_count": 8,
      "outputs": [
        {
          "output_type": "stream",
          "text": [
            "Середнє арифметичне всієї вибірки:15.38\n"
          ],
          "name": "stdout"
        }
      ]
    },
    {
      "cell_type": "code",
      "metadata": {
        "id": "ytWceTJJBrc8",
        "outputId": "835b1dcd-205f-4472-9c8c-d8345e4637cc",
        "colab": {
          "base_uri": "https://localhost:8080/"
        }
      },
      "source": [
        "x_median=np.median(a)\n",
        "print(\"Медіана для всієї вибірки:\"+ str(x_median))"
      ],
      "execution_count": 9,
      "outputs": [
        {
          "output_type": "stream",
          "text": [
            "Медіана для всієї вибірки:14.0\n"
          ],
          "name": "stdout"
        }
      ]
    },
    {
      "cell_type": "code",
      "metadata": {
        "id": "ziqJ3-VmBtfr",
        "outputId": "c07379b5-d9f4-4b31-e0b4-47237554680f",
        "colab": {
          "base_uri": "https://localhost:8080/"
        }
      },
      "source": [
        "mode_value=0;\n",
        "mode=[]\n",
        "for i in freq_table:\n",
        "    if mode_value<freq_table[i]:\n",
        "        mode_value=freq_table[i]\n",
        "for i in freq_table:\n",
        "    if mode_value==freq_table[i]:\n",
        "        mode.append(i)\n",
        "print(\"Мода для всієї вибірки: \"+str(mode))"
      ],
      "execution_count": 10,
      "outputs": [
        {
          "output_type": "stream",
          "text": [
            "Мода для всієї вибірки: [13]\n"
          ],
          "name": "stdout"
        }
      ]
    },
    {
      "cell_type": "code",
      "metadata": {
        "id": "Ry8fohaKBwC7",
        "outputId": "4ecc040e-04d9-4fc0-e897-7f9278b34d37",
        "colab": {
          "base_uri": "https://localhost:8080/"
        }
      },
      "source": [
        "d = np.power(x_axis,2)\n",
        "d_sum=np.multiply(d,y_axis)\n",
        "dus=float(sum(d_sum)/n-pow(x_mean,2))\n",
        "print(\"Статистична дисперсія для всієї вибірки: \"+str(dus))"
      ],
      "execution_count": 11,
      "outputs": [
        {
          "output_type": "stream",
          "text": [
            "Статистична дисперсія для всієї вибірки: 14.395599999999973\n"
          ],
          "name": "stdout"
        }
      ]
    },
    {
      "cell_type": "code",
      "metadata": {
        "id": "TwptzEHRBwOr",
        "outputId": "bde619ac-fdcd-4726-86fe-e40de4baf028",
        "colab": {
          "base_uri": "https://localhost:8080/"
        }
      },
      "source": [
        "ssv = float(math.sqrt(dus))\n",
        "print(\"Середнє статистичне відхилення для всієї вибірки: \"+str(ssv))"
      ],
      "execution_count": 12,
      "outputs": [
        {
          "output_type": "stream",
          "text": [
            "Середнє статистичне відхилення для всієї вибірки: 3.7941533970043926\n"
          ],
          "name": "stdout"
        }
      ]
    },
    {
      "cell_type": "code",
      "metadata": {
        "id": "Nz3nxQvRBwY1",
        "outputId": "157cb6a8-8fe5-424c-eae1-306c9918966f",
        "colab": {
          "base_uri": "https://localhost:8080/"
        }
      },
      "source": [
        "v_dus = float(n*dus/(n-1))\n",
        "print(\"Виправлена статистична дисперсія для всієї вибірки: \"+str(v_dus))"
      ],
      "execution_count": 13,
      "outputs": [
        {
          "output_type": "stream",
          "text": [
            "Виправлена статистична дисперсія для всієї вибірки: 14.689387755102013\n"
          ],
          "name": "stdout"
        }
      ]
    },
    {
      "cell_type": "code",
      "metadata": {
        "id": "5BPLzd7GBwbn",
        "outputId": "742c12e7-807c-4c86-c6fa-22e5e1d44397",
        "colab": {
          "base_uri": "https://localhost:8080/"
        }
      },
      "source": [
        "sl=abs(np.subtract(x_axis,x_mean))\n",
        "slv = 1/n*sum(np.multiply(sl,y_axis))\n",
        "print(\"Середнє лінійне відхилення для всієї вибірки: \"+str(slv))"
      ],
      "execution_count": 14,
      "outputs": [
        {
          "output_type": "stream",
          "text": [
            "Середнє лінійне відхилення для всієї вибірки: 2.8368000000000007\n"
          ],
          "name": "stdout"
        }
      ]
    },
    {
      "cell_type": "code",
      "metadata": {
        "id": "--sWRfa5B3Pr",
        "outputId": "d41bfb0c-032b-4a66-a905-d85a74e66013",
        "colab": {
          "base_uri": "https://localhost:8080/"
        }
      },
      "source": [
        "Vp = slv/x_mean*100\n",
        "print(\"Коефіцієнт варіації за середнім лінійним відхиленням: \"+str(Vp) +'%')"
      ],
      "execution_count": 15,
      "outputs": [
        {
          "output_type": "stream",
          "text": [
            "Коефіцієнт варіації за середнім лінійним відхиленням: 18.44473342002601%\n"
          ],
          "name": "stdout"
        }
      ]
    },
    {
      "cell_type": "code",
      "metadata": {
        "id": "o8SQOjc_B3SU",
        "outputId": "9720017e-eda3-4afc-c8bc-9e195b74b4ec",
        "colab": {
          "base_uri": "https://localhost:8080/"
        }
      },
      "source": [
        "Vs = ssv/x_mean*100\n",
        "print(\"Коефіцієнт варіації за середнім квадратичним відхиленням: \"+str(Vs) +'%')"
      ],
      "execution_count": 16,
      "outputs": [
        {
          "output_type": "stream",
          "text": [
            "Коефіцієнт варіації за середнім квадратичним відхиленням: 24.66939789989852%\n"
          ],
          "name": "stdout"
        }
      ]
    },
    {
      "cell_type": "code",
      "metadata": {
        "id": "zGsgt7FdB3U7"
      },
      "source": [
        "arr = [0,1,2,3,4]\n",
        "x_s=dict()\n",
        "ms = dict()\n",
        "Ms = dict()\n",
        "print(\"Початковий статистичний момент вибірки s-го порядку:\\n\")\n",
        "for i in arr:\n",
        "    \n",
        "    x_s= pow(x_axis,i)\n",
        "    ms = np.multiply(x_s,y_axis)    \n",
        "    Ms[i] = float(1/n*sum(ms))\n",
        "    print('M('+str(i)+'): '+str(Ms[i]))\n",
        "print('\\n')\n",
        "\n",
        "print(\"Центральний статистичний момент вибірки s-го порядку:\\n\")\n",
        "x_v =dict()\n",
        "x_xv = dict()\n",
        "mv = dict()\n",
        "Mv = dict()\n",
        "for i in arr:\n",
        "    x_xv = np.subtract(x_axis,x_mean)\n",
        "    x_v = pow(x_xv,i)\n",
        "    ##print(x_v,'\\n',y_axis,'\\n')\n",
        "    mv = np.multiply(x_v,y_axis)\n",
        "    ##print(sum(mv),'\\n')\n",
        "    Mv[i] = float(1/n*sum(mv))\n",
        "    print('M('+str(i)+'): '+str(Mv[i]))\n",
        "print('\\n')"
      ],
      "execution_count": null,
      "outputs": []
    },
    {
      "cell_type": "code",
      "metadata": {
        "id": "CQ8cfrNJB9jk",
        "outputId": "8b96f907-a7b3-4d43-863e-9ce5fa964f5e",
        "colab": {
          "base_uri": "https://localhost:8080/"
        }
      },
      "source": [
        "A = float(1/n*sum(np.multiply(pow(np.subtract(x_axis,x_mean),3),y_axis))/(pow(ssv,3)))\n",
        "print('Асиметрія: ', str(A))\n",
        "\n",
        "E = float(1/n*sum(np.multiply(pow(np.subtract(x_axis,x_mean),4),y_axis))/(pow(ssv,4)))-3\n",
        "print('Ексцес: ', str(E))"
      ],
      "execution_count": 17,
      "outputs": [
        {
          "output_type": "stream",
          "text": [
            "Асиметрія:  1.4059939364353202\n",
            "Ексцес:  1.8248988218010274\n"
          ],
          "name": "stdout"
        }
      ]
    },
    {
      "cell_type": "code",
      "metadata": {
        "id": "Xec9n0iKDgMe",
        "outputId": "5a5edca1-e6fc-4ca5-c551-ae15a479c408",
        "colab": {
          "base_uri": "https://localhost:8080/",
          "height": 663
        }
      },
      "source": [
        "#Емпірична функція розподілу\n",
        "def disturb_func(freq_dict):\n",
        "    value=0\n",
        "    answer_dict=dict()\n",
        "    for i in freq_dict.keys():\n",
        "        ##print(value,' ')\n",
        "        answer_dict[i]=value\n",
        "        value += int(freq_dict.get(i))/len(a)\n",
        "        \n",
        "    return answer_dict\n",
        "\n",
        "distr_function=disturb_func(freq_table)\n",
        "xstart=a[0]-2\n",
        "x_pos=[]\n",
        "y_pos=[]\n",
        "plt.figure(figsize=(10,10))\n",
        "s=[20*10 for n in range(len(distr_function))]\n",
        "for pos_x, pos_y in distr_function.items():\n",
        "    x_pos.append(pos_x)\n",
        "    y_pos.append(pos_y)    \n",
        "plt.suptitle('Емпірична функція розподілу')\n",
        "plt.plot(x_pos,y_pos,color='k')\n",
        "plt.hlines(xmin=xstart,xmax=xstart+2,y=0,color='k')\n",
        "plt.show()"
      ],
      "execution_count": 28,
      "outputs": [
        {
          "output_type": "display_data",
          "data": {
            "image/png": "[encoded data removed]",
            "text/plain": [
              "<Figure size 720x720 with 1 Axes>"
            ]
          },
          "metadata": {
            "tags": [],
            "needs_background": "light"
          }
        }
      ]
    },
    {
      "cell_type": "code",
      "metadata": {
        "id": "oMKtnk4XER56",
        "outputId": "0dbd389e-3bdf-4ef3-b678-79762935131c",
        "colab": {
          "base_uri": "https://localhost:8080/"
        }
      },
      "source": [
        "#Неперервна вибірка\n",
        "\n",
        "print(\"  \")\n",
        "print(\"  \")\n",
        "\n",
        "rv = math.floor(math.log2(n))\n",
        "dx=(max(a)-min(a))/r\n",
        "\n",
        "groups=[]\n",
        "b=a[0]\n",
        "\n",
        "for i in range(rv):\n",
        "    groups.append((float(format(b,'.4f')),float(format(b+dx,'.4f'))))\n",
        "    b+=dx\n",
        "print(groups,'\\n')\n",
        "\n",
        "freq_table=dict()\n",
        "\n",
        "for i in a:\n",
        "    for j in groups:\n",
        "        if j[0]<=i<j[1] and freq_table.get(j):\n",
        "            freq_table[j]+=1\n",
        "        elif j[0]<=i<j[1] and not freq_table.get(j):\n",
        "            freq_table[j]=1\n",
        "#freq_table[groups[r-1]]+=1\n",
        "freq_table"
      ],
      "execution_count": 29,
      "outputs": [
        {
          "output_type": "stream",
          "text": [
            "  \n",
            "  \n",
            "[(10.0, 11.0), (11.0, 12.0), (12.0, 13.0), (13.0, 14.0), (14.0, 15.0)] \n",
            "\n"
          ],
          "name": "stdout"
        },
        {
          "output_type": "execute_result",
          "data": {
            "text/plain": [
              "{(10.0, 11.0): 2,\n",
              " (11.0, 12.0): 2,\n",
              " (12.0, 13.0): 3,\n",
              " (13.0, 14.0): 11,\n",
              " (14.0, 15.0): 9}"
            ]
          },
          "metadata": {
            "tags": []
          },
          "execution_count": 29
        }
      ]
    },
    {
      "cell_type": "code",
      "metadata": {
        "id": "FbQaZc2ZD9rS",
        "outputId": "a8c03c88-f45b-434d-a497-7896e78dea66",
        "colab": {
          "base_uri": "https://localhost:8080/",
          "height": 401
        }
      },
      "source": [
        "#Частотна\n",
        "freq_tablel=dict()\n",
        "for i in freq_table.keys():\n",
        "    freq_tablel[i]=[freq_table[i]]\n",
        "freq_table_df=pd.DataFrame(freq_tablel, index=[\"m:\"])\n",
        "print(freq_table_df)\n",
        "print('\\n')\n",
        "#Відносна частотна\n",
        "freq_tablel_2 = dict()\n",
        "for i in freq_table.keys():\n",
        "    freq_tablel_2[i]= float(freq_table[i]/n)\n",
        "freq_table_df=pd.DataFrame(freq_tablel_2, index=[\"w:\"])\n",
        "print(freq_table_df)\n",
        "\n",
        "\n",
        "plt.hist(a,r,facecolor='b',alpha=0.75)\n",
        "y_axis=[i for i in freq_table.values()]\n",
        "for i in freq_table:\n",
        "    plt.vlines(i[0],ymin=0,ymax=freq_table[i],linestyle='-',color='k')\n",
        "    plt.vlines(i[1],ymin=0,ymax=freq_table[i],linestyle='-',color='k')\n",
        "    plt.hlines(xmin=i[0],xmax=i[1], y=freq_table[i],color='k')\n",
        "plt.show()"
      ],
      "execution_count": 30,
      "outputs": [
        {
          "output_type": "stream",
          "text": [
            "   10.0 11.0 12.0 13.0 14.0\n",
            "   11.0 12.0 13.0 14.0 15.0\n",
            "m:    2    2    3   11    9\n",
            "\n",
            "\n",
            "    10.0  11.0  12.0  13.0  14.0\n",
            "    11.0  12.0  13.0  14.0  15.0\n",
            "w:  0.04  0.04  0.06  0.22  0.18\n"
          ],
          "name": "stdout"
        },
        {
          "output_type": "display_data",
          "data": {
            "image/png": "[encoded data removed]",
            "text/plain": [
              "<Figure size 432x288 with 1 Axes>"
            ]
          },
          "metadata": {
            "tags": [],
            "needs_background": "light"
          }
        }
      ]
    }
  ]
}